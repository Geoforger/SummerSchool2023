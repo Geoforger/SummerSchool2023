{
 "cells": [
  {
   "cell_type": "markdown",
   "id": "674e6149",
   "metadata": {},
   "source": [
    "# Workshop: Moving from theory into practise\n",
    "\n",
    "In this workshop we will investigate the steps needed to move from the theory presented in a research paper, to a basic, working example of the presented theory. This is an important skill within robotics and research as a whole, allowing us to not only test theories presented in research papers, but also to allow us to use new technologies or techniques within our own work.\n",
    "\n",
    "In this workshop we will be looking to impliment the behaviour of an LIF neuron as presented in the following paper:\n",
    "\n",
    "[^1]: **Yamazaki, Kashu, et al. \"Spiking neural networks and their applications: A Review.\" Brain Sciences 12.7 (2022): 863.**\n",
    "\n",
    "This tutorial shall include a basic introduction to implementation in Python and should take up to 2 hours to complete."
   ]
  },
  {
   "cell_type": "markdown",
   "id": "d6178fe4",
   "metadata": {},
   "source": [
    "## 1. Python Introduction\n",
    "\n",
    "The following section will serve as an introduction or refresher to basic programming in Python.\n",
    "\n",
    "1. Defining a variable\n",
    "2. Basic operations\n",
    "3. Loops\n",
    "4. Functions"
   ]
  },
  {
   "cell_type": "code",
   "execution_count": null,
   "id": "2428554f",
   "metadata": {},
   "outputs": [],
   "source": []
  },
  {
   "cell_type": "markdown",
   "id": "fee59b72",
   "metadata": {},
   "source": [
    "## 2. Spiking Neurons\n",
    "\n",
    "#### Short recap on spiking neurons, etc.\n",
    "\n",
    "\n",
    "### Neuron Dynamics\n",
    "\n",
    "Below are the simple equations that describe the operation of a Leaky Intergrate and Fire (LIF) neuron.\n",
    "\n",
    "\\begin{align}\n",
    "\\tau_m\\,\\frac{d}{dt}\\,V(t) &= E_{L} - V(t) + R\\,I(t) &\\text{if }\\quad V(t) \\leq V_{th} \\\\ \\\\\n",
    "V(t) &= V_{reset} &\\text{otherwise}\n",
    "\\end{align}\n",
    "\n",
    "<br>\n",
    "where $V(t)$ is the membrane potential, $\\tau_m$ is the membrane time constant, $E_{L}$ is the leak potential, $R$ is the membrane resistance, $I(t)$ is the synaptic input current, $V_{th}$ is the firing threshold, and $V_{reset}$ is the reset voltage. We can also write $V_m$ for membrane potential, which is more convenient for plot labels.\n",
    "\n",
    "One technique to convert these dynamics into code is to first break down the equations into variables and operations. For example:\n",
    "\n",
    "$\\tau_m, dt, E_{L}, R, V_{th}, V_{reset}$ are constants, commonly referred to as **neuron parameters** within the context of neuron models. These constants are set for a neuron and **do not** change during operation. Therefore they can be set below without needing to be change for the rest of the worksheet.\n",
    "\n",
    "In the code section below, set these constants to the following values (make sure to use appropriate variable names):\n",
    "\n",
    "\\begin{align}\n",
    "\\tau_m = 20e^{-3} \\\\\n",
    "E_{L} = -60e^{-3} \\\\\n",
    "R = 100e^{6} \\\\\n",
    "V_{th} = -50e^{-3} \\\\\n",
    "V_{reset} = -70e^{-3} \\\\\n",
    "\\end{align}"
   ]
  },
  {
   "cell_type": "code",
   "execution_count": 1,
   "id": "ed5f184c",
   "metadata": {},
   "outputs": [],
   "source": [
    "# Set your constants to the values above:\n",
    "v_thresh = -50e-3\n",
    "v_reset = -70e-3\n",
    "tau = 20e-3\n",
    "E_leak = -60e-3\n",
    "r = 100e6"
   ]
  },
  {
   "cell_type": "markdown",
   "id": "ab95f2f0",
   "metadata": {},
   "source": [
    "Once we have extracted the variables, we should begin to think about the operations that will be applied to them as we execute our function.\n",
    "\n",
    "To calculate the membrane voltage at each timestep we must rearrange the equation above to form the following:\n",
    "\n",
    "\\begin{equation}\n",
    "V(t + \\Delta t) =  V(t) + \\frac{\\Delta t}{\\tau_m}\\left( E_L -V(t) + R I(t) \\right)\n",
    "\\end{equation}"
   ]
  },
  {
   "cell_type": "markdown",
   "id": "fdcd10a1",
   "metadata": {},
   "source": [
    "### Running our simulation\n",
    "\n",
    "Now that we have a function for our LIF neuron, we need to test it in simulation. For this simple simulation, we will simply use a **for** loop to run the LIF neuron. As explained in our section on loops above, the **for** loop will run the code within the loop for a number of iterations. In the section below, add in the operations described by the above equation. \n",
    "\n",
    "For the purpose of this simulation $I(t) = 25e^{-11}$ and $dt = 1e^{-3}$. This runs a simulation using timesteps of 1ms and constant current of 250nA.\n",
    "\n",
    "**NOTE** Be careful when using parathesis/brackets **(**/**)** as they will change the order of operations. Code within brackets will execute before code outside of brackets."
   ]
  },
  {
   "cell_type": "code",
   "execution_count": 2,
   "id": "6bf267a9",
   "metadata": {},
   "outputs": [],
   "source": [
    "import numpy as np\n",
    "\n",
    "# Simulation parameters\n",
    "timesteps = 50   # We simulate over 50 timesteps (50ms)\n",
    "i = 25e-11  # Constant current of 250nA\n",
    "dt = 1e-3   # Each timestep is 1ms\n",
    "v = v_reset # We start our simulation using the minimum membrane voltage\n",
    "\n",
    "# This list will contain our simulation outputs\n",
    "v_list = []\n",
    "\n",
    "# This loop will run our simulation for the number of timesteps specified above\n",
    "for time in range(timesteps):\n",
    "    # Time at this timestep\n",
    "    t = time * dt\n",
    "    \n",
    "    # TODO: Calculate the voltage at this timestep\n",
    "    #v = ?\n",
    "    v = v + (dt / tau * (E_leak - v + (r*i)))\n",
    "    \n",
    "    # If we've exceeded the threshold voltage reset the membrane voltage\n",
    "    if v > v_thresh:\n",
    "        v = v_reset\n",
    "        \n",
    "    # Record the membrange voltage at this timestep\n",
    "    v_list.append(v)"
   ]
  },
  {
   "cell_type": "code",
   "execution_count": 3,
   "id": "cb3ad78d",
   "metadata": {},
   "outputs": [],
   "source": [
    "# Compute value of i at this time step ONLY FOR SIN INPUT\n",
    "#i = i_mean * (1 + np.sin((t * 2 * np.pi) / 0.01))"
   ]
  },
  {
   "cell_type": "markdown",
   "id": "79a59f43",
   "metadata": {},
   "source": [
    "### Plotting our output\n",
    "\n",
    "Now that we have obtained data for how our membrane potential changes throughout the simulation, it is useful to plot this data. Visualising data is an important part of both presenting results and checking the simulation has implemented the expected behaviour. \n",
    "\n",
    "Below is the expected output graph you should obtain by running the code below, if the graph produced by your simulation differs from this graph, go back and examine your function as there may be an error.\n",
    "\n",
    "![alt text](example_output.png)"
   ]
  },
  {
   "cell_type": "code",
   "execution_count": 4,
   "id": "431be544",
   "metadata": {},
   "outputs": [
    {
     "data": {
      "image/png": "[encoded data removed]",
      "text/plain": [
       "<Figure size 432x288 with 1 Axes>"
      ]
     },
     "metadata": {
      "needs_background": "light"
     },
     "output_type": "display_data"
    }
   ],
   "source": [
    "from matplotlib import pyplot as plt\n",
    "\n",
    "plt.plot(np.arange(len(v_list)), v_list)\n",
    "plt.xlabel(\"Timestep\")\n",
    "plt.ylabel(\"Neuron potential (V)\")\n",
    "plt.title(\"Changing neuron potential during simulation\")\n",
    "plt.show()"
   ]
  },
  {
   "cell_type": "markdown",
   "id": "3c7d8c17",
   "metadata": {},
   "source": [
    "## Adapt the code to send spikes to output\n",
    "\n",
    "Within networks of spiking neurons information is sent from neuron to neuron (node to node) as binary 1s or 0s. In the above equations, when $V_{thresh}$ has been reached, we've simply reset our membrane voltage to $V_{reset}$. In addition to this reset however, once this $V_{thresh}$ has been reached, an output signal is sent to the next neuron triggering an increase in current at its membrane.\n",
    "\n",
    "Chaining these neurons together is how we can create Spiking Neural Networks (SNNs) that are able to implement complex behaviour such as interpreting sensor data or controlling robotic manipulators.\n",
    "\n",
    "In the code block below. Adapt your code from above to also record when an output spike occurs from your simulated neuron. Then run the following code block below to plot the membrane potential alongside these output spikes. If you've implemented the behaviour correctly, the red spikes on the graph should line up with your voltage resets."
   ]
  },
  {
   "cell_type": "code",
   "execution_count": 6,
   "id": "a5838074",
   "metadata": {},
   "outputs": [],
   "source": [
    "# TODO: Create a data structure to record your spikes, use the code snippets above as inspiration\n",
    "v_list = []\n",
    "s_list = [] # REMOVE\n",
    "\n",
    "# This loop will run our simulation for the number of timesteps specified above\n",
    "for time in range(timesteps):\n",
    "    # Time at this timestep\n",
    "    t = time * dt\n",
    "    \n",
    "    # Calculate the voltage at this timestep (TODO: Use the same function as you implemented above)\n",
    "    #v = ?\n",
    "    v = v + (dt / tau * (E_leak - v + (r*i))) # REMOVE\n",
    "    \n",
    "    # If we've exceeded the threshold voltage, send an output spike and reset the voltage\n",
    "    if v > v_thresh:\n",
    "        v = v_reset\n",
    "        s_list.append(1) # REMOVE\n",
    "    else:# REMOVE\n",
    "        s_list.append(0)# REMOVE\n",
    "        \n",
    "    # Record the membrange voltage at this timestep\n",
    "    v_list.append(v)"
   ]
  },
  {
   "cell_type": "code",
   "execution_count": 11,
   "id": "9fee0ac4",
   "metadata": {},
   "outputs": [
    {
     "data": {
      "image/png": "[encoded data removed]",
      "text/plain": [
       "<Figure size 432x288 with 2 Axes>"
      ]
     },
     "metadata": {
      "needs_background": "light"
     },
     "output_type": "display_data"
    }
   ],
   "source": [
    "# Plotting spikes alongside V spikes\n",
    "fig,ax1 = plt.subplots()\n",
    "\n",
    "ax1.plot(np.arange(len(v_list)), v_list, label=\"Membrane Potential (V)\", color=\"blue\")\n",
    "ax1.set_ylabel(\"Neuron potential (V)\")\n",
    "ax1.set_ylabel(\"Timestep\")\n",
    "\n",
    "ax2 = ax1.twinx()\n",
    "ax2.plot(np.arange(len(s_list)), s_list, label=\"Output Spike\", color=\"red\")\n",
    "ax2.set_ylabel(\"Output Spike\")\n",
    "\n",
    "plt.title(\"Changing neuron potential and output spikes during simulation\")\n",
    "plt.show()"
   ]
  },
  {
   "cell_type": "markdown",
   "id": "205f70d7",
   "metadata": {},
   "source": [
    "## 3. Additional Work (Challenging)\n",
    "\n",
    "Object-Orientated Programming (OOP) is a common coding practise that looks to create easily reusable code contained within **classes**. \n",
    "\n",
    "Additional reading on OOP can be found here:\n",
    "https://www.techtarget.com/searchapparchitecture/definition/object-oriented-programming-OOP\n",
    "\n",
    "In this additional work section, we will look to convert our LIF neuron function into an object. This practise becomes more important as your code grows and evolves, allowing you to make small changes to code and having those changes implemented across your system.\n",
    "\n",
    "In the code we've implemented above, we've written out the code for our LIF neuron dynamics. By encapulating this in a class we will be able to build networks of these neurons by connecting them together, without having to write code for each individual neuron."
   ]
  },
  {
   "cell_type": "markdown",
   "id": "120e61b6",
   "metadata": {},
   "source": [
    "We can create a **class** using the code below. Fill in your neuron parameters and implement your membrane voltage calculation within the **run_spk** function.\n",
    "\n",
    "**NOTE** when using constants within a class, you must define and reference them with the following syntax:\n",
    "\n",
    "`self.v_thresh = -50e-3`"
   ]
  },
  {
   "cell_type": "code",
   "execution_count": 22,
   "id": "332a268e",
   "metadata": {},
   "outputs": [],
   "source": [
    "class LIFNeuron():\n",
    "    def __init__(self):\n",
    "        # TODO: Define the rest of the neuron parameters (constants).\n",
    "        self.v_thresh = -50e-3\n",
    "        self.v_reset = -70e-3\n",
    "        self.tau = 20e-3\n",
    "        self.E_leak = -60e-3\n",
    "        self.r = 100e6\n",
    "        self.v = self.v_reset\n",
    "        \n",
    "    # TODO: Implement your membrane voltage function\n",
    "    def run_spk(self, dt, i):\n",
    "        self.v = self.v + (dt / self.tau * (self.E_leak - self.v + (self.r*i)))\n",
    "        \n",
    "        if self.v > self.v_thresh:\n",
    "            self.v = self.v_reset\n",
    "            return 1\n",
    "        else:\n",
    "            return 0"
   ]
  },
  {
   "cell_type": "markdown",
   "id": "463a7aa8",
   "metadata": {},
   "source": [
    "Now that our class has been created, let's implement it within our previous simulation and plot the results."
   ]
  },
  {
   "cell_type": "code",
   "execution_count": 32,
   "id": "525d29fe",
   "metadata": {},
   "outputs": [],
   "source": [
    "import numpy as np\n",
    "\n",
    "# Simulation parameters\n",
    "timesteps = 50   # We simulate over 50 timesteps (50ms)\n",
    "i = 25e-11  # Constant current of 250nA\n",
    "dt = 1e-3   # Each timestep is 1ms\n",
    "\n",
    "# This list will contain our simulation outputs\n",
    "s_list = []\n",
    "\n",
    "# Create an instance of our class\n",
    "LIF = LIFNeuron()\n",
    "\n",
    "# This loop will run our simulation for the number of timesteps specified above\n",
    "for time in range(timesteps):\n",
    "    # Check if there's an output spike at this timestep\n",
    "    s = LIF.run_spk(dt, i)\n",
    "    \n",
    "    s_list.append(s)"
   ]
  },
  {
   "cell_type": "code",
   "execution_count": 33,
   "id": "cda914cc",
   "metadata": {},
   "outputs": [
    {
     "data": {
      "image/png": "[encoded data removed]",
      "text/plain": [
       "<Figure size 432x288 with 1 Axes>"
      ]
     },
     "metadata": {
      "needs_background": "light"
     },
     "output_type": "display_data"
    }
   ],
   "source": [
    "plt.plot(np.arange(len(s_list)), s_list)\n",
    "plt.xlabel(\"Timestep\")\n",
    "plt.ylabel(\"Spikes\")\n",
    "plt.title(\"Class neuron output spikes\")\n",
    "plt.show()"
   ]
  },
  {
   "cell_type": "code",
   "execution_count": null,
   "id": "933e745b",
   "metadata": {},
   "outputs": [],
   "source": []
  }
 ],
 "metadata": {
  "kernelspec": {
   "display_name": "Python 3 (ipykernel)",
   "language": "python",
   "name": "python3"
  },
  "language_info": {
   "codemirror_mode": {
    "name": "ipython",
    "version": 3
   },
   "file_extension": ".py",
   "mimetype": "text/x-python",
   "name": "python",
   "nbconvert_exporter": "python",
   "pygments_lexer": "ipython3",
   "version": "3.8.10"
  }
 },
 "nbformat": 4,
 "nbformat_minor": 5
}
